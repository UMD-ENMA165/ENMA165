{
 "cells": [
  {
   "cell_type": "markdown",
   "id": "9f86f80e-7195-4d7d-b423-3f3e19c4c71f",
   "metadata": {},
   "source": [
    "# Experiments with Python Types and Git"
   ]
  },
  {
   "cell_type": "markdown",
   "id": "58dd4e34-f219-49a7-bb09-b0a9d10a2deb",
   "metadata": {},
   "source": [
    "## Experiment with integers"
   ]
  },
  {
   "cell_type": "code",
   "execution_count": 1,
   "id": "022dbe08-3836-40c4-b7ed-0a5ad2920ce7",
   "metadata": {
    "tags": []
   },
   "outputs": [],
   "source": [
    "an_integer = 2"
   ]
  },
  {
   "cell_type": "code",
   "execution_count": 2,
   "id": "63153ca1-63b1-4e54-ad79-02ee3821ae23",
   "metadata": {
    "tags": []
   },
   "outputs": [
    {
     "name": "stdout",
     "output_type": "stream",
     "text": [
      "2\n"
     ]
    }
   ],
   "source": [
    "print(an_integer)"
   ]
  },
  {
   "cell_type": "markdown",
   "id": "9206ffb6-3a75-46b5-9837-fd1b3fdb3790",
   "metadata": {},
   "source": [
    "## Experiment with floats"
   ]
  },
  {
   "cell_type": "markdown",
   "id": "adf99426-f4dc-4324-9b3c-3ba8580a9a20",
   "metadata": {},
   "source": [
    "Floating point numbers are how computers represent things like $\\pi$. Python calls them a `float`."
   ]
  },
  {
   "cell_type": "code",
   "execution_count": 3,
   "id": "22b57c2c-f18c-49b2-bdd7-9e85839fb0ba",
   "metadata": {
    "tags": []
   },
   "outputs": [
    {
     "name": "stdout",
     "output_type": "stream",
     "text": [
      "3.14\n"
     ]
    }
   ],
   "source": [
    "a_float = 3.14\n",
    "print(a_float)"
   ]
  },
  {
   "cell_type": "markdown",
   "id": "9ccac25d-482f-4a25-8337-726096fe5635",
   "metadata": {},
   "source": [
    "$$\\frac{\\partial E}{\\partial x_k}=\\frac{\\partial}{\\partial x_k}\\sum_i \\left[\\left(\\sum_j A_{ij} x_j \\right)-q_i\\right]^2=0$$"
   ]
  },
  {
   "cell_type": "code",
   "execution_count": null,
   "id": "5b3a0aca-3344-4c60-b6c1-56bfb2050988",
   "metadata": {},
   "outputs": [],
   "source": []
  }
 ],
 "metadata": {
  "kernelspec": {
   "display_name": "Python 3 (ipykernel)",
   "language": "python",
   "name": "python3"
  },
  "language_info": {
   "codemirror_mode": {
    "name": "ipython",
    "version": 3
   },
   "file_extension": ".py",
   "mimetype": "text/x-python",
   "name": "python",
   "nbconvert_exporter": "python",
   "pygments_lexer": "ipython3",
   "version": "3.11.5"
  }
 },
 "nbformat": 4,
 "nbformat_minor": 5
}
