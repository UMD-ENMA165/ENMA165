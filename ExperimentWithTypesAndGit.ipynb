{
 "cells": [
  {
   "cell_type": "code",
   "execution_count": 1,
   "id": "022dbe08-3836-40c4-b7ed-0a5ad2920ce7",
   "metadata": {
    "tags": []
   },
   "outputs": [],
   "source": [
    "an_integer = 2"
   ]
  },
  {
   "cell_type": "code",
   "execution_count": 2,
   "id": "63153ca1-63b1-4e54-ad79-02ee3821ae23",
   "metadata": {
    "tags": []
   },
   "outputs": [
    {
     "name": "stdout",
     "output_type": "stream",
     "text": [
      "2\n"
     ]
    }
   ],
   "source": [
    "print(an_integer)"
   ]
  },
  {
   "cell_type": "code",
   "execution_count": null,
   "id": "22b57c2c-f18c-49b2-bdd7-9e85839fb0ba",
   "metadata": {},
   "outputs": [],
   "source": []
  }
 ],
 "metadata": {
  "kernelspec": {
   "display_name": "Python 3 (ipykernel)",
   "language": "python",
   "name": "python3"
  },
  "language_info": {
   "codemirror_mode": {
    "name": "ipython",
    "version": 3
   },
   "file_extension": ".py",
   "mimetype": "text/x-python",
   "name": "python",
   "nbconvert_exporter": "python",
   "pygments_lexer": "ipython3",
   "version": "3.11.5"
  }
 },
 "nbformat": 4,
 "nbformat_minor": 5
}
